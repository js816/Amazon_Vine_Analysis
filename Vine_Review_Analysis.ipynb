{
  "nbformat": 4,
  "nbformat_minor": 0,
  "metadata": {
    "colab": {
      "name": "Vine_Review_Analysis.ipynb",
      "provenance": []
    },
    "kernelspec": {
      "name": "python3",
      "display_name": "Python 3"
    },
    "language_info": {
      "name": "python"
    }
  },
  "cells": [
    {
      "cell_type": "code",
      "metadata": {
        "colab": {
          "base_uri": "https://localhost:8080/"
        },
        "id": "vlMOPJhS3k99",
        "outputId": "14222d19-ba15-47db-cbe0-6a0fc51f68ee"
      },
      "source": [
        "import os\n",
        "# Find the latest version of spark 3.0  from http://www-us.apache.org/dist/spark/ and enter as the spark version\n",
        "# For example:\n",
        "# spark_version = 'spark-3.0.2'\n",
        "spark_version = 'spark-3.1.2'\n",
        "os.environ['SPARK_VERSION']=spark_version\n",
        "# Install Spark and Java\n",
        "!apt-get update\n",
        "!apt-get install openjdk-11-jdk-headless -qq > /dev/null\n",
        "#!wget -q http://www-us.apache.org/dist/spark/$SPARK_VERSION/$SPARK_VERSION-bin-hadoop3.2.tgz\n",
        "!wget -q https://downloads.apache.org/spark/$SPARK_VERSION/$SPARK_VERSION-bin-hadoop3.2.tgz\n",
        "!tar xf $SPARK_VERSION-bin-hadoop3.2.tgz\n",
        "!pip install -q findspark\n",
        "# Set Environment Variables\n",
        "os.environ[\"JAVA_HOME\"] = \"/usr/lib/jvm/java-11-openjdk-amd64\"\n",
        "os.environ[\"SPARK_HOME\"] = f\"/content/{spark_version}-bin-hadoop3.2\"\n",
        "# Start a SparkSession\n",
        "import findspark\n",
        "findspark.init()"
      ],
      "execution_count": 1,
      "outputs": [
        {
          "output_type": "stream",
          "text": [
            "\r0% [Working]\r            \rHit:1 https://cloud.r-project.org/bin/linux/ubuntu bionic-cran40/ InRelease\n",
            "Ign:2 https://developer.download.nvidia.com/compute/cuda/repos/ubuntu1804/x86_64  InRelease\n",
            "Hit:3 http://security.ubuntu.com/ubuntu bionic-security InRelease\n",
            "Ign:4 https://developer.download.nvidia.com/compute/machine-learning/repos/ubuntu1804/x86_64  InRelease\n",
            "Hit:5 https://developer.download.nvidia.com/compute/cuda/repos/ubuntu1804/x86_64  Release\n",
            "Hit:6 https://developer.download.nvidia.com/compute/machine-learning/repos/ubuntu1804/x86_64  Release\n",
            "Hit:7 http://ppa.launchpad.net/c2d4u.team/c2d4u4.0+/ubuntu bionic InRelease\n",
            "Hit:8 http://archive.ubuntu.com/ubuntu bionic InRelease\n",
            "Hit:10 http://archive.ubuntu.com/ubuntu bionic-updates InRelease\n",
            "Hit:11 http://ppa.launchpad.net/cran/libgit2/ubuntu bionic InRelease\n",
            "Hit:13 http://archive.ubuntu.com/ubuntu bionic-backports InRelease\n",
            "Hit:14 http://ppa.launchpad.net/deadsnakes/ppa/ubuntu bionic InRelease\n",
            "Hit:15 http://ppa.launchpad.net/graphics-drivers/ppa/ubuntu bionic InRelease\n",
            "Reading package lists... Done\n"
          ],
          "name": "stdout"
        }
      ]
    },
    {
      "cell_type": "code",
      "metadata": {
        "id": "6JlnRrZd3vUe"
      },
      "source": [
        "# Start Spark session\n",
        "from pyspark.sql import SparkSession\n",
        "spark = SparkSession.builder.appName(\"Vine_Review_Analysis\").getOrCreate()"
      ],
      "execution_count": 2,
      "outputs": []
    },
    {
      "cell_type": "code",
      "metadata": {
        "colab": {
          "base_uri": "https://localhost:8080/"
        },
        "id": "WsEeddYx36hv",
        "outputId": "762c439a-c685-4a58-b12b-0071053ea7c1"
      },
      "source": [
        "# Extract the dataset used for Deliverable 1\n",
        "from pyspark import SparkFiles\n",
        "url = \"https://s3.amazonaws.com/amazon-reviews-pds/tsv/amazon_reviews_us_Pet_Products_v1_00.tsv.gz\"\n",
        "spark.sparkContext.addFile(url)\n",
        "df = spark.read.option(\"encoding\", \"UTF-8\").csv(SparkFiles.get(\"\"), sep=\"\\t\", header=True, inferSchema=True)\n",
        "df.show()"
      ],
      "execution_count": 3,
      "outputs": [
        {
          "output_type": "stream",
          "text": [
            "+-----------+-----------+--------------+----------+--------------+--------------------+----------------+-----------+-------------+-----------+----+-----------------+--------------------+--------------------+-----------+\n",
            "|marketplace|customer_id|     review_id|product_id|product_parent|       product_title|product_category|star_rating|helpful_votes|total_votes|vine|verified_purchase|     review_headline|         review_body|review_date|\n",
            "+-----------+-----------+--------------+----------+--------------+--------------------+----------------+-----------+-------------+-----------+----+-----------------+--------------------+--------------------+-----------+\n",
            "|         US|   28794885| REAKC26P07MDN|B00Q0K9604|     510387886|(8-Pack) EZwhelp ...|    Pet Products|          5|            0|          0|   N|                Y|A great purchase ...|Best belly bands ...| 2015-08-31|\n",
            "|         US|   11488901|R3NU7OMZ4HQIEG|B00MBW5O9W|     912374672|Warren Eckstein's...|    Pet Products|          2|            0|          1|   N|                Y|My dogs love Hugs...|My dogs love Hugs...| 2015-08-31|\n",
            "|         US|   43214993|R14QJW3XF8QO1P|B0084OHUIO|     902215727|Tyson's True Chew...|    Pet Products|          5|            0|          0|   N|                Y|I have been purch...|I have been purch...| 2015-08-31|\n",
            "|         US|   12835065|R2HB7AX0394ZGY|B001GS71K2|     568880110|Soft Side Pet Cra...|    Pet Products|          5|            0|          0|   N|                Y|it is easy to ope...|It is extremely w...| 2015-08-31|\n",
            "|         US|   26334022| RGKMPDQGSAHR3|B004ABH1LG|     692846826|EliteField 3-Door...|    Pet Products|          5|            0|          0|   N|                Y|           Dog crate|Worked really wel...| 2015-08-31|\n",
            "|         US|   22283621|R1DJCVPQGCV66E|B00AX0LFM4|     590674141|Carlson 68-Inch W...|    Pet Products|          5|            0|          0|   N|                Y|          Five Stars|I love my gates! ...| 2015-08-31|\n",
            "|         US|   14469895|R3V52EAWLPBFQG|B00DQFZGZ0|     688538603|Dog Seat Cover Wi...|    Pet Products|          3|            0|          0|   N|                Y|Seat belt tugs on...|Didn't quite work...| 2015-08-31|\n",
            "|         US|   50896354|R3DKO8J1J28QBI|B00DIRF9US|     742358789|The Bird Catcher ...|    Pet Products|          2|            0|          0|   N|                Y|Great Pole, but S...|I had the origina...| 2015-08-31|\n",
            "|         US|   18440567| R764DBXGRNECG|B00JRCBFUG|     869798483|Cat Bed - Purrfec...|    Pet Products|          5|            1|          1|   N|                N|     My cat loves it|The pad is very s...| 2015-08-31|\n",
            "|         US|   50502362| RW1853GAT0Z9F|B000L3XYZ4|     501118658|PetSafe Drinkwell...|    Pet Products|          5|            0|          0|   N|                Y|          Five Stars|My cat drinks mor...| 2015-08-31|\n",
            "|         US|   33930128|R33GITXNUF1AD4|B00BOEXWFG|     454737777|Contech ZenDog Ca...|    Pet Products|          2|            0|          0|   N|                Y|Also had to pull ...|Much smaller than...| 2015-08-31|\n",
            "|         US|   43534290|R1H7AVM81TAYRV|B001HBBQKY|     420905252|Wellness Crunchy ...|    Pet Products|          1|            2|          2|   N|                Y|DO NOT PURCHASE -...|I used to love th...| 2015-08-31|\n",
            "|         US|   45555864|R2ZOYAQZNNZZWV|B007O1FHB0|     302588963|Rx Vitamins Essen...|    Pet Products|          5|            0|          0|   N|                Y|          Five Stars|Recommended by my...| 2015-08-31|\n",
            "|         US|   11147406|R2FN1H3CGW6J8H|B001P3NU30|     525778264|Virbac C.E.T. Enz...|    Pet Products|          1|            0|          0|   N|                Y|Received wrong pr...|Yes I  ordered fo...| 2015-08-31|\n",
            "|         US|    6495678| RJB41Q575XNG4|B00ZP6HS6S|     414117299|Kitty Shack - 2 i...|    Pet Products|          5|            0|          3|   N|                Y|          Five Stars|      It falls apart| 2015-08-31|\n",
            "|         US|    2019416|R28W8BM1587CPF|B00IP05CUA|     833937853|Wellness Kittles ...|    Pet Products|          5|            0|          0|   N|                Y|kitty is ravenous...|My cat really lov...| 2015-08-31|\n",
            "|         US|   40459386|R1II0M01NIG293|B001U8Y598|      85343577|OmniPet Anti-Ant ...|    Pet Products|          2|            0|          0|   N|                N|Maybe other speci...|This bowl is not ...| 2015-08-31|\n",
            "|         US|   23126800| RMB8N0DBRH34O|B011AY4JWO|     499241195|K9KONNECTION [New...|    Pet Products|          5|            1|          1|   N|                Y|This works, dog n...|I have a small do...| 2015-08-31|\n",
            "|         US|   30238476|R24WB6A6WVIPU6|B00DDSHE5A|     409532388|SUNSEED COMPANY 3...|    Pet Products|          5|            0|          0|   N|                Y|    Yummy for Bunny!|Bunny loves it! E...| 2015-08-31|\n",
            "|         US|   35113999| ROCJSH0P9YSRW|B00PJW5OR8|     259271919|CXB1983(TM)Cute P...|    Pet Products|          5|            0|          0|   N|                Y|excellent price, ...|Petfect,,quality ...| 2015-08-31|\n",
            "+-----------+-----------+--------------+----------+--------------+--------------------+----------------+-----------+-------------+-----------+----+-----------------+--------------------+--------------------+-----------+\n",
            "only showing top 20 rows\n",
            "\n"
          ],
          "name": "stdout"
        }
      ]
    },
    {
      "cell_type": "code",
      "metadata": {
        "colab": {
          "base_uri": "https://localhost:8080/"
        },
        "id": "knHjIY9g4FDb",
        "outputId": "7dca4c47-2165-4399-a5db-ccb2bba9e250"
      },
      "source": [
        "# Recreating the vine_table\n",
        "vine_df = df.select(['review_id', 'star_rating', 'helpful_votes', 'total_votes', 'vine', 'verified_purchase'])\n",
        "vine_df.show()\n",
        "vine_df.describe().show()"
      ],
      "execution_count": 4,
      "outputs": [
        {
          "output_type": "stream",
          "text": [
            "+--------------+-----------+-------------+-----------+----+-----------------+\n",
            "|     review_id|star_rating|helpful_votes|total_votes|vine|verified_purchase|\n",
            "+--------------+-----------+-------------+-----------+----+-----------------+\n",
            "| REAKC26P07MDN|          5|            0|          0|   N|                Y|\n",
            "|R3NU7OMZ4HQIEG|          2|            0|          1|   N|                Y|\n",
            "|R14QJW3XF8QO1P|          5|            0|          0|   N|                Y|\n",
            "|R2HB7AX0394ZGY|          5|            0|          0|   N|                Y|\n",
            "| RGKMPDQGSAHR3|          5|            0|          0|   N|                Y|\n",
            "|R1DJCVPQGCV66E|          5|            0|          0|   N|                Y|\n",
            "|R3V52EAWLPBFQG|          3|            0|          0|   N|                Y|\n",
            "|R3DKO8J1J28QBI|          2|            0|          0|   N|                Y|\n",
            "| R764DBXGRNECG|          5|            1|          1|   N|                N|\n",
            "| RW1853GAT0Z9F|          5|            0|          0|   N|                Y|\n",
            "|R33GITXNUF1AD4|          2|            0|          0|   N|                Y|\n",
            "|R1H7AVM81TAYRV|          1|            2|          2|   N|                Y|\n",
            "|R2ZOYAQZNNZZWV|          5|            0|          0|   N|                Y|\n",
            "|R2FN1H3CGW6J8H|          1|            0|          0|   N|                Y|\n",
            "| RJB41Q575XNG4|          5|            0|          3|   N|                Y|\n",
            "|R28W8BM1587CPF|          5|            0|          0|   N|                Y|\n",
            "|R1II0M01NIG293|          2|            0|          0|   N|                N|\n",
            "| RMB8N0DBRH34O|          5|            1|          1|   N|                Y|\n",
            "|R24WB6A6WVIPU6|          5|            0|          0|   N|                Y|\n",
            "| ROCJSH0P9YSRW|          5|            0|          0|   N|                Y|\n",
            "+--------------+-----------+-------------+-----------+----+-----------------+\n",
            "only showing top 20 rows\n",
            "\n",
            "+-------+--------------+------------------+------------------+------------------+-------+-----------------+\n",
            "|summary|     review_id|       star_rating|     helpful_votes|       total_votes|   vine|verified_purchase|\n",
            "+-------+--------------+------------------+------------------+------------------+-------+-----------------+\n",
            "|  count|       2643619|           2643614|           2643614|           2643614|2643614|          2643614|\n",
            "|   mean|          null| 4.143652969003796|1.6528846495744083|1.9387940145573446|   null|             null|\n",
            "| stddev|          null|1.3266177011987028| 14.70402528908395|15.451199246654118|   null|             null|\n",
            "|    min|R100065P6TTS3J|                 1|                 0|                 0|      N|                N|\n",
            "|    max| RZZZTGR4ZR68W|                 5|              5735|              5811|      Y|                Y|\n",
            "+-------+--------------+------------------+------------------+------------------+-------+-----------------+\n",
            "\n"
          ],
          "name": "stdout"
        }
      ]
    },
    {
      "cell_type": "code",
      "metadata": {
        "colab": {
          "base_uri": "https://localhost:8080/"
        },
        "id": "fxuirrKf5J7s",
        "outputId": "68326983-0689-40c8-fb0b-7a484e001988"
      },
      "source": [
        "# Creating a new DataFrame for reviews that have 20 or more total_votes\n",
        "twenty_votes_vine_df = vine_df.filter(vine_df['total_votes'] >= 20)\n",
        "twenty_votes_vine_df.show()\n",
        "twenty_votes_vine_df.describe().show()"
      ],
      "execution_count": 6,
      "outputs": [
        {
          "output_type": "stream",
          "text": [
            "+--------------+-----------+-------------+-----------+----+-----------------+\n",
            "|     review_id|star_rating|helpful_votes|total_votes|vine|verified_purchase|\n",
            "+--------------+-----------+-------------+-----------+----+-----------------+\n",
            "|R21KC552Y6HL8X|          1|           27|         31|   N|                Y|\n",
            "| RX9WC9FTIR1XR|          5|           25|         25|   N|                Y|\n",
            "| RGDCOU1KBHMNG|          3|           29|         31|   N|                Y|\n",
            "| RVTYWID2TPMMY|          2|           35|         42|   N|                Y|\n",
            "|R2CMPZ5VESGRLY|          4|           27|         28|   N|                Y|\n",
            "|R3VQPJZ54B55BA|          5|           62|         64|   N|                N|\n",
            "|R24QM6D7FEDZ5M|          2|           36|         43|   N|                Y|\n",
            "|R3A1VQ3SQDXEJ3|          5|           20|         20|   N|                Y|\n",
            "|  R39GSNW76GYF|          1|           20|         23|   N|                Y|\n",
            "| RPJLR6MFDPXXE|          5|           35|         36|   N|                Y|\n",
            "|R34X0ZGVB3YGYO|          5|           47|         47|   N|                Y|\n",
            "|R2C9O1BOV14Q0Z|          1|           62|         79|   N|                Y|\n",
            "| RM6ZH5J3XDNHK|          5|           79|         87|   N|                Y|\n",
            "|R2E363K75EMW4K|          5|           66|         69|   N|                Y|\n",
            "|R2VJII8VKSJHDF|          1|           24|         29|   N|                N|\n",
            "|R2U35Y2P27M13E|          1|           43|         45|   N|                Y|\n",
            "| RLMZOQL11VHBX|          5|           23|         24|   N|                Y|\n",
            "|R3C6CQQRRA8SYP|          5|           52|         58|   N|                Y|\n",
            "|R3T7YOX0AEDZL3|          1|           45|         47|   N|                N|\n",
            "|R176V3AYS3R4HG|          5|           26|         27|   N|                N|\n",
            "+--------------+-----------+-------------+-----------+----+-----------------+\n",
            "only showing top 20 rows\n",
            "\n",
            "+-------+--------------+------------------+-----------------+------------------+-----+-----------------+\n",
            "|summary|     review_id|       star_rating|    helpful_votes|       total_votes| vine|verified_purchase|\n",
            "+-------+--------------+------------------+-----------------+------------------+-----+-----------------+\n",
            "|  count|         39376|             39376|            39376|             39376|39376|            39376|\n",
            "|   mean|          null| 3.691487200325071|55.76399329540837| 60.90938642828119| null|             null|\n",
            "| stddev|          null|1.6398078595114511|106.1370700215249|110.13788237933338| null|             null|\n",
            "|    min|R10037MJ9LKCVM|                 1|                0|                20|    N|                N|\n",
            "|    max| RZZMYQ9G22DY0|                 5|             5735|              5811|    Y|                Y|\n",
            "+-------+--------------+------------------+-----------------+------------------+-----+-----------------+\n",
            "\n"
          ],
          "name": "stdout"
        }
      ]
    },
    {
      "cell_type": "code",
      "metadata": {
        "colab": {
          "base_uri": "https://localhost:8080/"
        },
        "id": "NTgT-yWr7hwF",
        "outputId": "bff64dd1-3b72-4978-9f4b-b70d4aeebc17"
      },
      "source": [
        "# Creating a new DataFrame for reviews where helpful_notes is at least 50% of total_votes\n",
        "helpful_vine_df = twenty_votes_vine_df.filter(twenty_votes_vine_df[\"helpful_votes\"] / (twenty_votes_vine_df[\"total_votes\"]) >= 0.50)\n",
        "helpful_vine_df.show()\n",
        "helpful_vine_df.describe().show()"
      ],
      "execution_count": 7,
      "outputs": [
        {
          "output_type": "stream",
          "text": [
            "+--------------+-----------+-------------+-----------+----+-----------------+\n",
            "|     review_id|star_rating|helpful_votes|total_votes|vine|verified_purchase|\n",
            "+--------------+-----------+-------------+-----------+----+-----------------+\n",
            "|R21KC552Y6HL8X|          1|           27|         31|   N|                Y|\n",
            "| RX9WC9FTIR1XR|          5|           25|         25|   N|                Y|\n",
            "| RGDCOU1KBHMNG|          3|           29|         31|   N|                Y|\n",
            "| RVTYWID2TPMMY|          2|           35|         42|   N|                Y|\n",
            "|R2CMPZ5VESGRLY|          4|           27|         28|   N|                Y|\n",
            "|R3VQPJZ54B55BA|          5|           62|         64|   N|                N|\n",
            "|R24QM6D7FEDZ5M|          2|           36|         43|   N|                Y|\n",
            "|R3A1VQ3SQDXEJ3|          5|           20|         20|   N|                Y|\n",
            "|  R39GSNW76GYF|          1|           20|         23|   N|                Y|\n",
            "| RPJLR6MFDPXXE|          5|           35|         36|   N|                Y|\n",
            "|R34X0ZGVB3YGYO|          5|           47|         47|   N|                Y|\n",
            "|R2C9O1BOV14Q0Z|          1|           62|         79|   N|                Y|\n",
            "| RM6ZH5J3XDNHK|          5|           79|         87|   N|                Y|\n",
            "|R2E363K75EMW4K|          5|           66|         69|   N|                Y|\n",
            "|R2VJII8VKSJHDF|          1|           24|         29|   N|                N|\n",
            "|R2U35Y2P27M13E|          1|           43|         45|   N|                Y|\n",
            "| RLMZOQL11VHBX|          5|           23|         24|   N|                Y|\n",
            "|R3C6CQQRRA8SYP|          5|           52|         58|   N|                Y|\n",
            "|R3T7YOX0AEDZL3|          1|           45|         47|   N|                N|\n",
            "|R176V3AYS3R4HG|          5|           26|         27|   N|                N|\n",
            "+--------------+-----------+-------------+-----------+----+-----------------+\n",
            "only showing top 20 rows\n",
            "\n",
            "+-------+--------------+------------------+-----------------+------------------+-----+-----------------+\n",
            "|summary|     review_id|       star_rating|    helpful_votes|       total_votes| vine|verified_purchase|\n",
            "+-------+--------------+------------------+-----------------+------------------+-----+-----------------+\n",
            "|  count|         38010|             38010|            38010|             38010|38010|            38010|\n",
            "|   mean|          null|3.7654827676927125|57.52799263351749| 61.89118652986056| null|             null|\n",
            "| stddev|          null|1.6037158024563967|107.6044601693972|111.92172613652947| null|             null|\n",
            "|    min|R10037MJ9LKCVM|                 1|               10|                20|    N|                N|\n",
            "|    max| RZZMYQ9G22DY0|                 5|             5735|              5811|    Y|                Y|\n",
            "+-------+--------------+------------------+-----------------+------------------+-----+-----------------+\n",
            "\n"
          ],
          "name": "stdout"
        }
      ]
    },
    {
      "cell_type": "code",
      "metadata": {
        "colab": {
          "base_uri": "https://localhost:8080/"
        },
        "id": "-CvYGmaACTYL",
        "outputId": "085eb865-a5e6-481b-a2b3-bd0bcd585ef4"
      },
      "source": [
        "# Creating a new DataFrame to capture only reviews from the Vine program\n",
        "from_vine_df = helpful_vine_df.filter(helpful_vine_df[\"vine\"] == \"Y\")\n",
        "from_vine_df.show()\n",
        "from_vine_df.describe().show()"
      ],
      "execution_count": 8,
      "outputs": [
        {
          "output_type": "stream",
          "text": [
            "+--------------+-----------+-------------+-----------+----+-----------------+\n",
            "|     review_id|star_rating|helpful_votes|total_votes|vine|verified_purchase|\n",
            "+--------------+-----------+-------------+-----------+----+-----------------+\n",
            "|R3A71VR1JZD8WF|          2|           27|         30|   Y|                N|\n",
            "|R16OMUJIGI18JZ|          5|           72|         72|   Y|                N|\n",
            "|R3TS8ZP2FHQ9XR|          5|           39|         42|   Y|                N|\n",
            "|R2MHP919VZN7DI|          5|           29|         30|   Y|                N|\n",
            "| RD2BCTVS59A5L|          2|           20|         20|   Y|                N|\n",
            "|R1JUJLXQ2CMWKF|          4|           25|         26|   Y|                N|\n",
            "|R2T7YE0IFI6N9L|          3|           24|         25|   Y|                N|\n",
            "|R25FI3J7WWOYXM|          3|           55|         58|   Y|                N|\n",
            "|R3P3U4EOWIUD50|          3|           27|         36|   Y|                N|\n",
            "|R3C7MKX7MO6XUC|          5|          216|        219|   Y|                N|\n",
            "|R1DFDDK1ZWKN3D|          2|           61|         65|   Y|                N|\n",
            "|R38G7BRBA2LGGV|          3|           47|         54|   Y|                N|\n",
            "|R2XQXWNEBSB9WO|          4|           52|         56|   Y|                N|\n",
            "|R1UFK241B2KN48|          4|          375|        378|   Y|                N|\n",
            "|R3H9CGK58BVHI5|          4|           42|         46|   Y|                N|\n",
            "|R3FKBT77ZTUPLQ|          5|           15|         20|   Y|                N|\n",
            "|R3NSXBUR3O1CE8|          5|           21|         22|   Y|                N|\n",
            "|R13JI50KH7BTBU|          4|           29|         30|   Y|                N|\n",
            "|R2LWQUQ6KB5ZN5|          4|           29|         36|   Y|                Y|\n",
            "|R1JORBU2J7HG3H|          5|           22|         25|   Y|                N|\n",
            "+--------------+-----------+-------------+-----------+----+-----------------+\n",
            "only showing top 20 rows\n",
            "\n",
            "+-------+--------------+------------------+------------------+------------------+----+-----------------+\n",
            "|summary|     review_id|       star_rating|     helpful_votes|       total_votes|vine|verified_purchase|\n",
            "+-------+--------------+------------------+------------------+------------------+----+-----------------+\n",
            "|  count|           170|               170|               170|               170| 170|              170|\n",
            "|   mean|          null| 3.929411764705882|63.641176470588235| 68.03529411764706|null|             null|\n",
            "| stddev|          null|1.1124708391270806|107.53304464635703|110.81862649267784|null|             null|\n",
            "|    min|R10A5XNAP2Y4N7|                 1|                13|                20|   Y|                N|\n",
            "|    max|  RZLBU14F5Y7N|                 5|              1239|              1277|   Y|                Y|\n",
            "+-------+--------------+------------------+------------------+------------------+----+-----------------+\n",
            "\n"
          ],
          "name": "stdout"
        }
      ]
    },
    {
      "cell_type": "code",
      "metadata": {
        "colab": {
          "base_uri": "https://localhost:8080/"
        },
        "id": "EA6Y0OiZC29m",
        "outputId": "dde56176-ebd3-4200-c349-53e910b899a9"
      },
      "source": [
        "# Creating a new DataFrame to capture only reviews NOT from the Vine program\n",
        "not_from_vine_df = helpful_vine_df.filter(helpful_vine_df[\"vine\"] == \"N\")\n",
        "not_from_vine_df.show()\n",
        "not_from_vine_df.describe().show()"
      ],
      "execution_count": 9,
      "outputs": [
        {
          "output_type": "stream",
          "text": [
            "+--------------+-----------+-------------+-----------+----+-----------------+\n",
            "|     review_id|star_rating|helpful_votes|total_votes|vine|verified_purchase|\n",
            "+--------------+-----------+-------------+-----------+----+-----------------+\n",
            "|R21KC552Y6HL8X|          1|           27|         31|   N|                Y|\n",
            "| RX9WC9FTIR1XR|          5|           25|         25|   N|                Y|\n",
            "| RGDCOU1KBHMNG|          3|           29|         31|   N|                Y|\n",
            "| RVTYWID2TPMMY|          2|           35|         42|   N|                Y|\n",
            "|R2CMPZ5VESGRLY|          4|           27|         28|   N|                Y|\n",
            "|R3VQPJZ54B55BA|          5|           62|         64|   N|                N|\n",
            "|R24QM6D7FEDZ5M|          2|           36|         43|   N|                Y|\n",
            "|R3A1VQ3SQDXEJ3|          5|           20|         20|   N|                Y|\n",
            "|  R39GSNW76GYF|          1|           20|         23|   N|                Y|\n",
            "| RPJLR6MFDPXXE|          5|           35|         36|   N|                Y|\n",
            "|R34X0ZGVB3YGYO|          5|           47|         47|   N|                Y|\n",
            "|R2C9O1BOV14Q0Z|          1|           62|         79|   N|                Y|\n",
            "| RM6ZH5J3XDNHK|          5|           79|         87|   N|                Y|\n",
            "|R2E363K75EMW4K|          5|           66|         69|   N|                Y|\n",
            "|R2VJII8VKSJHDF|          1|           24|         29|   N|                N|\n",
            "|R2U35Y2P27M13E|          1|           43|         45|   N|                Y|\n",
            "| RLMZOQL11VHBX|          5|           23|         24|   N|                Y|\n",
            "|R3C6CQQRRA8SYP|          5|           52|         58|   N|                Y|\n",
            "|R3T7YOX0AEDZL3|          1|           45|         47|   N|                N|\n",
            "|R176V3AYS3R4HG|          5|           26|         27|   N|                N|\n",
            "+--------------+-----------+-------------+-----------+----+-----------------+\n",
            "only showing top 20 rows\n",
            "\n",
            "+-------+--------------+------------------+------------------+------------------+-----+-----------------+\n",
            "|summary|     review_id|       star_rating|     helpful_votes|       total_votes| vine|verified_purchase|\n",
            "+-------+--------------+------------------+------------------+------------------+-----+-----------------+\n",
            "|  count|         37840|             37840|             37840|             37840|37840|            37840|\n",
            "|   mean|          null|3.7647463002114163| 57.50052854122622|61.863583509513745| null|             null|\n",
            "| stddev|          null|1.6055561346315699|107.60541722886974|111.92734632290404| null|             null|\n",
            "|    min|R10037MJ9LKCVM|                 1|                10|                20|    N|                N|\n",
            "|    max| RZZMYQ9G22DY0|                 5|              5735|              5811|    N|                Y|\n",
            "+-------+--------------+------------------+------------------+------------------+-----+-----------------+\n",
            "\n"
          ],
          "name": "stdout"
        }
      ]
    },
    {
      "cell_type": "code",
      "metadata": {
        "colab": {
          "base_uri": "https://localhost:8080/"
        },
        "id": "3-aIc_ygDDF1",
        "outputId": "9fe5d31c-de50-4278-cc21-d3891037507c"
      },
      "source": [
        "# Creating a DataFrame of 5 Star Reviews in the Vine program\n",
        "from_vine_5star_df = from_vine_df.filter(from_vine_df[\"star_rating\"] == \"5\")\n",
        "from_vine_5star_df.show()\n",
        "from_vine_5star_df.describe().show()"
      ],
      "execution_count": 10,
      "outputs": [
        {
          "output_type": "stream",
          "text": [
            "+--------------+-----------+-------------+-----------+----+-----------------+\n",
            "|     review_id|star_rating|helpful_votes|total_votes|vine|verified_purchase|\n",
            "+--------------+-----------+-------------+-----------+----+-----------------+\n",
            "|R16OMUJIGI18JZ|          5|           72|         72|   Y|                N|\n",
            "|R3TS8ZP2FHQ9XR|          5|           39|         42|   Y|                N|\n",
            "|R2MHP919VZN7DI|          5|           29|         30|   Y|                N|\n",
            "|R3C7MKX7MO6XUC|          5|          216|        219|   Y|                N|\n",
            "|R3FKBT77ZTUPLQ|          5|           15|         20|   Y|                N|\n",
            "|R3NSXBUR3O1CE8|          5|           21|         22|   Y|                N|\n",
            "|R1JORBU2J7HG3H|          5|           22|         25|   Y|                N|\n",
            "|R13X5H4F8GA5QP|          5|          144|        152|   Y|                N|\n",
            "| RPEPC5A5TPNYK|          5|           80|         82|   Y|                N|\n",
            "| R4KEU66BD36CR|          5|           33|         34|   Y|                N|\n",
            "| REV7HRXADVP1Q|          5|           22|         28|   Y|                N|\n",
            "| RPQ00VTO2AN1D|          5|           46|         49|   Y|                N|\n",
            "|R1LACCC5SL1LS6|          5|           77|         81|   Y|                N|\n",
            "|R3H42XJ1GA59K8|          5|           45|         48|   Y|                N|\n",
            "|R20Z8GS5IVRDVT|          5|          129|        134|   Y|                N|\n",
            "|R380KQVSEH3PQT|          5|           26|         28|   Y|                N|\n",
            "|R2PWOGJ1EYB4NX|          5|           33|         35|   Y|                N|\n",
            "|R2EDJJKCY2NY1N|          5|           18|         20|   Y|                N|\n",
            "| RAZ7HBRW7G0AX|          5|          313|        333|   Y|                N|\n",
            "| RI0UCVY1SD3V1|          5|           35|         40|   Y|                N|\n",
            "+--------------+-----------+-------------+-----------+----+-----------------+\n",
            "only showing top 20 rows\n",
            "\n",
            "+-------+--------------+-----------+-----------------+-----------------+----+-----------------+\n",
            "|summary|     review_id|star_rating|    helpful_votes|      total_votes|vine|verified_purchase|\n",
            "+-------+--------------+-----------+-----------------+-----------------+----+-----------------+\n",
            "|  count|            65|         65|               65|               65|  65|               65|\n",
            "|   mean|          null|        5.0|57.52307692307692|61.33846153846154|null|             null|\n",
            "| stddev|          null|        0.0|63.17018375297491|65.84837624304912|null|             null|\n",
            "|    min|R10A5XNAP2Y4N7|          5|               15|               20|   Y|                N|\n",
            "|    max| RV5OQXGCYHSC6|          5|              356|              373|   Y|                Y|\n",
            "+-------+--------------+-----------+-----------------+-----------------+----+-----------------+\n",
            "\n"
          ],
          "name": "stdout"
        }
      ]
    },
    {
      "cell_type": "code",
      "metadata": {
        "colab": {
          "base_uri": "https://localhost:8080/"
        },
        "id": "gmqOxyScDVj_",
        "outputId": "052f8338-a797-451b-dcd6-94bc5d3285a1"
      },
      "source": [
        "# Creating a DataFrame of 5 Star Reviews NOT in the Vine program\n",
        "not_from_vine_5star_df = not_from_vine_df.filter(not_from_vine_df[\"star_rating\"] == \"5\")\n",
        "not_from_vine_5star_df.show()\n",
        "not_from_vine_5star_df.describe().show()"
      ],
      "execution_count": 14,
      "outputs": [
        {
          "output_type": "stream",
          "text": [
            "+--------------+-----------+-------------+-----------+----+-----------------+\n",
            "|     review_id|star_rating|helpful_votes|total_votes|vine|verified_purchase|\n",
            "+--------------+-----------+-------------+-----------+----+-----------------+\n",
            "| RX9WC9FTIR1XR|          5|           25|         25|   N|                Y|\n",
            "|R3VQPJZ54B55BA|          5|           62|         64|   N|                N|\n",
            "|R3A1VQ3SQDXEJ3|          5|           20|         20|   N|                Y|\n",
            "| RPJLR6MFDPXXE|          5|           35|         36|   N|                Y|\n",
            "|R34X0ZGVB3YGYO|          5|           47|         47|   N|                Y|\n",
            "| RM6ZH5J3XDNHK|          5|           79|         87|   N|                Y|\n",
            "|R2E363K75EMW4K|          5|           66|         69|   N|                Y|\n",
            "| RLMZOQL11VHBX|          5|           23|         24|   N|                Y|\n",
            "|R3C6CQQRRA8SYP|          5|           52|         58|   N|                Y|\n",
            "|R176V3AYS3R4HG|          5|           26|         27|   N|                N|\n",
            "|R1E5UU8JBUSHU2|          5|           29|         29|   N|                Y|\n",
            "|R321IM5UIWSS1D|          5|           21|         22|   N|                Y|\n",
            "|R13RDDA84RN5UV|          5|           72|         74|   N|                Y|\n",
            "|R32GLCISSDQH58|          5|           21|         21|   N|                Y|\n",
            "| RG3LJ7DIQBJGR|          5|           25|         27|   N|                Y|\n",
            "|R2TEWA8TEJEQ8X|          5|           22|         23|   N|                Y|\n",
            "|R33PC7N3PUVAQH|          5|           66|         66|   N|                Y|\n",
            "| RBN16XJ8RH467|          5|           47|         49|   N|                Y|\n",
            "|R2PIZSZBU9M14L|          5|           17|         21|   N|                N|\n",
            "|R3SGZ8UX8DLE7W|          5|           27|         27|   N|                Y|\n",
            "+--------------+-----------+-------------+-----------+----+-----------------+\n",
            "only showing top 20 rows\n",
            "\n",
            "+-------+--------------+-----------+-----------------+------------------+-----+-----------------+\n",
            "|summary|     review_id|star_rating|    helpful_votes|       total_votes| vine|verified_purchase|\n",
            "+-------+--------------+-----------+-----------------+------------------+-----+-----------------+\n",
            "|  count|         20612|      20612|            20612|             20612|20612|            20612|\n",
            "|   mean|          null|        5.0|59.70216378808461|63.142198719192706| null|             null|\n",
            "| stddev|          null|        0.0|99.94106277939113|102.87597068559373| null|             null|\n",
            "|    min|R10037MJ9LKCVM|          5|               11|                20|    N|                N|\n",
            "|    max| RZZMYQ9G22DY0|          5|             3172|              3244|    N|                Y|\n",
            "+-------+--------------+-----------+-----------------+------------------+-----+-----------------+\n",
            "\n"
          ],
          "name": "stdout"
        }
      ]
    },
    {
      "cell_type": "code",
      "metadata": {
        "colab": {
          "base_uri": "https://localhost:8080/"
        },
        "id": "xKUMTLQcGWwK",
        "outputId": "cbd5f3db-f49f-448b-a1e1-788dff17260f"
      },
      "source": [
        "# Creating a DataFrame of all Vine reviews\n",
        "all_vine_df = vine_df.filter(vine_df['vine'] == \"Y\")\n",
        "all_vine_df.show()\n",
        "all_vine_df.describe().show()"
      ],
      "execution_count": 15,
      "outputs": [
        {
          "output_type": "stream",
          "text": [
            "+--------------+-----------+-------------+-----------+----+-----------------+\n",
            "|     review_id|star_rating|helpful_votes|total_votes|vine|verified_purchase|\n",
            "+--------------+-----------+-------------+-----------+----+-----------------+\n",
            "|R1CBOJMJAYL75C|          5|            0|          0|   Y|                N|\n",
            "| R37IHP001XZVR|          5|            0|          1|   Y|                N|\n",
            "|R175KT8QHRRK2G|          4|            0|          1|   Y|                N|\n",
            "| RNWWD2B3X0CU2|          5|            0|          0|   Y|                N|\n",
            "|R2FDITZFABSUN8|          3|            0|          1|   Y|                N|\n",
            "| R9WD02GLN4A35|          5|            7|          8|   Y|                N|\n",
            "| RMGB3SAPBORMY|          5|            0|          0|   Y|                N|\n",
            "|R3V4XNC741N9XW|          4|            0|          0|   Y|                N|\n",
            "| RS4W1GEFFRXTX|          5|            0|          0|   Y|                N|\n",
            "| RS3X4WLXNYT6B|          5|            0|          0|   Y|                N|\n",
            "|R19MJ8BUP9X2N3|          3|            0|          0|   Y|                N|\n",
            "|R10A8UNLH0KARF|          3|            1|          1|   Y|                N|\n",
            "|R3M4YYUXIJ6XMF|          4|            2|          2|   Y|                N|\n",
            "|R22RZB3DND8XJO|          4|            1|          1|   Y|                N|\n",
            "|R20WIW3ECGT9UH|          3|            0|          0|   Y|                N|\n",
            "|R3088Y79R8853J|          3|            0|          0|   Y|                N|\n",
            "|R1VGFT3XPH9HP1|          2|            0|          1|   Y|                N|\n",
            "| RBDN75GU7P5XD|          4|            0|          0|   Y|                N|\n",
            "|R11ZDCL8R5HKIG|          3|            0|          0|   Y|                N|\n",
            "| R6PROVFEGSNRK|          3|            1|          1|   Y|                N|\n",
            "+--------------+-----------+-------------+-----------+----+-----------------+\n",
            "only showing top 20 rows\n",
            "\n",
            "+-------+--------------+------------------+------------------+------------------+-----+-----------------+\n",
            "|summary|     review_id|       star_rating|     helpful_votes|       total_votes| vine|verified_purchase|\n",
            "+-------+--------------+------------------+------------------+------------------+-----+-----------------+\n",
            "|  count|         10215|             10215|             10215|             10215|10215|            10215|\n",
            "|   mean|          null|4.0657856093979445|1.9634850709740577| 2.343906020558003| null|             null|\n",
            "| stddev|          null|1.0206307378495552|16.109910392004213|16.785650516473545| null|             null|\n",
            "|    min|R1006IHFFMH3T4|                 1|                 0|                 0|    Y|                N|\n",
            "|    max| RZZKW2HAHJCG2|                 5|              1239|              1277|    Y|                Y|\n",
            "+-------+--------------+------------------+------------------+------------------+-----+-----------------+\n",
            "\n"
          ],
          "name": "stdout"
        }
      ]
    },
    {
      "cell_type": "code",
      "metadata": {
        "colab": {
          "base_uri": "https://localhost:8080/"
        },
        "id": "qvsCVTFSGrKh",
        "outputId": "8161d42e-7907-4732-b65a-7fdf37b1ec3a"
      },
      "source": [
        "# Creating a DataFrame of all NOT Vine reviews\n",
        "all_not_vine_df = vine_df.filter(vine_df['vine'] == \"N\")\n",
        "all_not_vine_df.show()\n",
        "all_not_vine_df.describe().show()"
      ],
      "execution_count": 18,
      "outputs": [
        {
          "output_type": "stream",
          "text": [
            "+--------------+-----------+-------------+-----------+----+-----------------+\n",
            "|     review_id|star_rating|helpful_votes|total_votes|vine|verified_purchase|\n",
            "+--------------+-----------+-------------+-----------+----+-----------------+\n",
            "| REAKC26P07MDN|          5|            0|          0|   N|                Y|\n",
            "|R3NU7OMZ4HQIEG|          2|            0|          1|   N|                Y|\n",
            "|R14QJW3XF8QO1P|          5|            0|          0|   N|                Y|\n",
            "|R2HB7AX0394ZGY|          5|            0|          0|   N|                Y|\n",
            "| RGKMPDQGSAHR3|          5|            0|          0|   N|                Y|\n",
            "|R1DJCVPQGCV66E|          5|            0|          0|   N|                Y|\n",
            "|R3V52EAWLPBFQG|          3|            0|          0|   N|                Y|\n",
            "|R3DKO8J1J28QBI|          2|            0|          0|   N|                Y|\n",
            "| R764DBXGRNECG|          5|            1|          1|   N|                N|\n",
            "| RW1853GAT0Z9F|          5|            0|          0|   N|                Y|\n",
            "|R33GITXNUF1AD4|          2|            0|          0|   N|                Y|\n",
            "|R1H7AVM81TAYRV|          1|            2|          2|   N|                Y|\n",
            "|R2ZOYAQZNNZZWV|          5|            0|          0|   N|                Y|\n",
            "|R2FN1H3CGW6J8H|          1|            0|          0|   N|                Y|\n",
            "| RJB41Q575XNG4|          5|            0|          3|   N|                Y|\n",
            "|R28W8BM1587CPF|          5|            0|          0|   N|                Y|\n",
            "|R1II0M01NIG293|          2|            0|          0|   N|                N|\n",
            "| RMB8N0DBRH34O|          5|            1|          1|   N|                Y|\n",
            "|R24WB6A6WVIPU6|          5|            0|          0|   N|                Y|\n",
            "| ROCJSH0P9YSRW|          5|            0|          0|   N|                Y|\n",
            "+--------------+-----------+-------------+-----------+----+-----------------+\n",
            "only showing top 20 rows\n",
            "\n",
            "+-------+--------------+------------------+------------------+------------------+-------+-----------------+\n",
            "|summary|     review_id|       star_rating|     helpful_votes|       total_votes|   vine|verified_purchase|\n",
            "+-------+--------------+------------------+------------------+------------------+-------+-----------------+\n",
            "|  count|       2633399|           2633399|           2633399|           2633399|2633399|          2633399|\n",
            "|   mean|          null| 4.143955017830568|1.6516798251992957|1.9372225781205203|   null|             null|\n",
            "| stddev|          null|1.3276585883772207| 14.69830058837788|15.445781187501261|   null|             null|\n",
            "|    min|R100065P6TTS3J|                 1|                 0|                 0|      N|                N|\n",
            "|    max| RZZZTGR4ZR68W|                 5|              5735|              5811|      N|                Y|\n",
            "+-------+--------------+------------------+------------------+------------------+-------+-----------------+\n",
            "\n"
          ],
          "name": "stdout"
        }
      ]
    }
  ]
}